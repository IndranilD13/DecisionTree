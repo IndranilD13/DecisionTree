{
 "cells": [
  {
   "cell_type": "code",
   "execution_count": 3,
   "metadata": {},
   "outputs": [
    {
     "data": {
      "text/html": [
       "<div>\n",
       "<style scoped>\n",
       "    .dataframe tbody tr th:only-of-type {\n",
       "        vertical-align: middle;\n",
       "    }\n",
       "\n",
       "    .dataframe tbody tr th {\n",
       "        vertical-align: top;\n",
       "    }\n",
       "\n",
       "    .dataframe thead th {\n",
       "        text-align: right;\n",
       "    }\n",
       "</style>\n",
       "<table border=\"1\" class=\"dataframe\">\n",
       "  <thead>\n",
       "    <tr style=\"text-align: right;\">\n",
       "      <th></th>\n",
       "      <th>AGE</th>\n",
       "      <th>INCOME</th>\n",
       "      <th>STUDENT</th>\n",
       "      <th>CREDIT</th>\n",
       "      <th>CAN BUY (CLASS LABEL)</th>\n",
       "    </tr>\n",
       "  </thead>\n",
       "  <tbody>\n",
       "    <tr>\n",
       "      <th>0</th>\n",
       "      <td>&lt;30</td>\n",
       "      <td>HIGH</td>\n",
       "      <td>NO</td>\n",
       "      <td>FAIR</td>\n",
       "      <td>NO</td>\n",
       "    </tr>\n",
       "    <tr>\n",
       "      <th>1</th>\n",
       "      <td>&lt;30</td>\n",
       "      <td>HIGH</td>\n",
       "      <td>NO</td>\n",
       "      <td>EXCELLENT</td>\n",
       "      <td>NO</td>\n",
       "    </tr>\n",
       "    <tr>\n",
       "      <th>2</th>\n",
       "      <td>31 - 40</td>\n",
       "      <td>HIGH</td>\n",
       "      <td>NO</td>\n",
       "      <td>FAIR</td>\n",
       "      <td>YES</td>\n",
       "    </tr>\n",
       "    <tr>\n",
       "      <th>3</th>\n",
       "      <td>&gt;40</td>\n",
       "      <td>MEDIUM</td>\n",
       "      <td>NO</td>\n",
       "      <td>FAIR</td>\n",
       "      <td>YES</td>\n",
       "    </tr>\n",
       "    <tr>\n",
       "      <th>4</th>\n",
       "      <td>&gt;40</td>\n",
       "      <td>LOW</td>\n",
       "      <td>YES</td>\n",
       "      <td>FAIR</td>\n",
       "      <td>YES</td>\n",
       "    </tr>\n",
       "  </tbody>\n",
       "</table>\n",
       "</div>"
      ],
      "text/plain": [
       "       AGE  INCOME STUDENT     CREDIT CAN BUY (CLASS LABEL)\n",
       "0      <30    HIGH      NO       FAIR                    NO\n",
       "1      <30    HIGH      NO  EXCELLENT                    NO\n",
       "2  31 - 40    HIGH      NO       FAIR                   YES\n",
       "3      >40  MEDIUM      NO       FAIR                   YES\n",
       "4      >40     LOW     YES       FAIR                   YES"
      ]
     },
     "execution_count": 3,
     "metadata": {},
     "output_type": "execute_result"
    }
   ],
   "source": [
    "import numpy as np\n",
    "import pandas as pd\n",
    "import math\n",
    "import copy\n",
    "from ast import literal_eval\n",
    "dataframe=pd.read_excel(\"./Datasets/COMP_SALE.xlsx\")#provide the relative path to the xls file containing the data\n",
    "#or just change the  pd.read_excel(\"\") To pd.read_csv()\n",
    "target='CAN BUY (CLASS LABEL)'#provide the Target class\n",
    "dataframe.head()"
   ]
  },
  {
   "cell_type": "markdown",
   "metadata": {},
   "source": [
    "Next Cell contains the code to find the frquency of positve and negative target values for the categorical data"
   ]
  },
  {
   "cell_type": "code",
   "execution_count": 4,
   "metadata": {},
   "outputs": [
    {
     "data": {
      "text/plain": [
       "{'AGE': {'>40': [2, 3], '31 - 40': [0, 4], '<30': [3, 2]},\n",
       " 'INCOME': {'MEDIUM': [2, 4], 'HIGH': [2, 2], 'LOW': [1, 3]},\n",
       " 'STUDENT': {'NO': [4, 3], 'YES': [1, 6]},\n",
       " 'CREDIT': {'FAIR': [2, 6], 'EXCELLENT': [3, 3]},\n",
       " 'CAN BUY (CLASS LABEL)': {'NO': [5, 0], 'YES': [0, 9]}}"
      ]
     },
     "execution_count": 4,
     "metadata": {},
     "output_type": "execute_result"
    }
   ],
   "source": [
    "def frequency_finder(target=target,dataframe=dataframe):\n",
    "    data_dict=dict(dataframe)\n",
    "    T={}\n",
    "    for v,k in enumerate(set(data_dict[target])):\n",
    "       T[k]=v \n",
    "    frequency=dict.fromkeys(data_dict.keys())\n",
    "    for k in data_dict.keys():\n",
    "        frequency[k]=dict.fromkeys(set(data_dict[k]))\n",
    "    for i in data_dict.keys():\n",
    "        for j in frequency[i].keys():\n",
    "            frequency[i][j]=[0,0]\n",
    "    for i in range(len(dataframe)):\n",
    "        temp=dict(dataframe.loc[i])\n",
    "        for j in temp.keys():\n",
    "            x=temp[j]\n",
    "            frequency[j][x][T[temp[target]]]+=1\n",
    "    return frequency\n",
    "frequency_finder()"
   ]
  },
  {
   "cell_type": "code",
   "execution_count": 5,
   "metadata": {},
   "outputs": [
    {
     "data": {
      "text/plain": [
       "({'AGE': {'>40': 0.9709505944546686, '31 - 40': 0, '<30': 0.9709505944546686},\n",
       "  'INCOME': {'MEDIUM': 0.9182958340544896,\n",
       "   'HIGH': 1.0,\n",
       "   'LOW': 0.8112781244591328},\n",
       "  'STUDENT': {'NO': 0.9852281360342516, 'YES': 0.5916727785823275},\n",
       "  'CREDIT': {'FAIR': 0.8112781244591328, 'EXCELLENT': 1.0},\n",
       "  'CAN BUY (CLASS LABEL)': {'NO': 0, 'YES': 0}},\n",
       " 0.9402859586706309,\n",
       " 14.0)"
      ]
     },
     "execution_count": 5,
     "metadata": {},
     "output_type": "execute_result"
    }
   ],
   "source": [
    "def Entropy(target=target,dataframe=dataframe):\n",
    "    frequency=frequency_finder(target=target,dataframe=dataframe)\n",
    "    entropy=copy.deepcopy(frequency) \n",
    "    for i in frequency.keys():\n",
    "        for j in frequency[i].keys():\n",
    "            p=frequency[i][j][0]\n",
    "            n=frequency[i][j][1]\n",
    "            s=p+n \n",
    "            if(p!=0) and (n!=0):\n",
    "                entropy[i][j]=-(p/s*math.log(p/s,2))-(n/s*math.log(n/s,2))\n",
    "            else:\n",
    "                entropy[i][j]=0\n",
    "    data_dict=dict(dataframe)\n",
    "    T1={}\n",
    "    for k,v in enumerate(set(data_dict[target])):\n",
    "       T1[k]=v\n",
    "    if 0 in T1.keys():\n",
    "        p=float(sum(frequency[target][T1[0]]))\n",
    "    else:\n",
    "        p=0\n",
    "    if 1 in T1.keys():\n",
    "        n=float(sum(frequency[target][T1[1]]))\n",
    "    else:\n",
    "        n=0\n",
    "    s=p+n\n",
    "    if (p!=0)and(n!=0):\n",
    "        entropy_target=-(p/s*math.log(p/s,2))-(n/s*math.log(n/s,2))\n",
    "    else:\n",
    "        entropy_target=0\n",
    "    return entropy,entropy_target,s\n",
    "Entropy()"
   ]
  },
  {
   "cell_type": "code",
   "execution_count": 6,
   "metadata": {},
   "outputs": [
    {
     "name": "stdout",
     "output_type": "stream",
     "text": [
      "{'AGE': 0.2467498197744391, 'INCOME': 0.029222565658954647, 'STUDENT': 0.15183550136234136, 'CREDIT': 0.04812703040826927, 'CAN BUY (CLASS LABEL)': 0.9402859586706309}\n"
     ]
    },
    {
     "data": {
      "text/plain": [
       "({'AGE': {'>40': [2, 3], '31 - 40': [0, 4], '<30': [3, 2]},\n",
       "  'INCOME': {'MEDIUM': [2, 4], 'HIGH': [2, 2], 'LOW': [1, 3]},\n",
       "  'STUDENT': {'NO': [4, 3], 'YES': [1, 6]},\n",
       "  'CREDIT': {'FAIR': [2, 6], 'EXCELLENT': [3, 3]},\n",
       "  'CAN BUY (CLASS LABEL)': {'NO': [5, 0], 'YES': [0, 9]}},\n",
       " 'AGE',\n",
       " 0)"
      ]
     },
     "execution_count": 6,
     "metadata": {},
     "output_type": "execute_result"
    }
   ],
   "source": [
    "def gain(target=target,dataframe=dataframe):\n",
    "    frequency=frequency_finder(target=target,dataframe=dataframe)\n",
    "    entropy,e_target,length=Entropy(target=target,dataframe=dataframe)\n",
    "    gain={}\n",
    "    if e_target==0:\n",
    "        return frequency,dataframe.loc[0][target],1\n",
    "    for i in frequency.keys():\n",
    "        s=0\n",
    "        for j in frequency[i].keys():\n",
    "            s+=(sum(frequency[i][j])/length)*entropy[i][j]\n",
    "        gain[i]=e_target-s\n",
    "    K,V='',0\n",
    "    print(gain)\n",
    "    for i in gain.keys():\n",
    "        if i==target:\n",
    "            continue\n",
    "        if gain[i]> V:\n",
    "            K=i\n",
    "            V=gain[i]\n",
    "    return frequency,K,0\n",
    "gain()"
   ]
  },
  {
   "cell_type": "code",
   "execution_count": 7,
   "metadata": {},
   "outputs": [
    {
     "name": "stdout",
     "output_type": "stream",
     "text": [
      "{'AGE': 0.2467498197744391, 'INCOME': 0.029222565658954647, 'STUDENT': 0.15183550136234136, 'CREDIT': 0.04812703040826927, 'CAN BUY (CLASS LABEL)': 0.9402859586706309}\n",
      "{'INCOME': 0.01997309402197489, 'STUDENT': 0.01997309402197489, 'CREDIT': 0.9709505944546686, 'CAN BUY (CLASS LABEL)': 0.9709505944546686}\n",
      "{'INCOME': 0.5709505944546686, 'STUDENT': 0.9709505944546686, 'CREDIT': 0.01997309402197489, 'CAN BUY (CLASS LABEL)': 0.9709505944546686}\n"
     ]
    },
    {
     "data": {
      "text/plain": [
       "{'AGE': {'>40': {'CREDIT': {'FAIR': 'YES', 'EXCELLENT': 'NO'}},\n",
       "  '31 - 40': 'YES',\n",
       "  '<30': {'STUDENT': {'NO': 'NO', 'YES': 'YES'}}}}"
      ]
     },
     "execution_count": 7,
     "metadata": {},
     "output_type": "execute_result"
    }
   ],
   "source": [
    "def Tree(target=target,dataframe=dataframe):\n",
    "    df=dataframe.copy()\n",
    "    frequency,feature,end=gain(dataframe=df)\n",
    "    tree={}\n",
    "    if end==1:\n",
    "        return feature\n",
    "    tree[feature]=dict.fromkeys(frequency[feature].keys())\n",
    "    for i in frequency[feature].keys():\n",
    "        df=dataframe.copy()\n",
    "        check=df[feature]==i\n",
    "        df=df[check].reset_index()\n",
    "        del df['index']\n",
    "        df1=df.copy()\n",
    "        df1.pop(feature)\n",
    "        tree[feature][i]=Tree(dataframe=df1)\n",
    "    return tree\n",
    "Tree()"
   ]
  },
  {
   "cell_type": "code",
   "execution_count": 8,
   "metadata": {},
   "outputs": [],
   "source": [
    "def get(input_data):\n",
    "    try:\n",
    "        return literal_eval(input_data)\n",
    "    except (ValueError, SyntaxError):\n",
    "        # A string, so return str\n",
    "        return str"
   ]
  },
  {
   "cell_type": "code",
   "execution_count": 10,
   "metadata": {},
   "outputs": [
    {
     "name": "stdout",
     "output_type": "stream",
     "text": [
      "{'AGE': 0.2467498197744391, 'INCOME': 0.029222565658954647, 'STUDENT': 0.15183550136234136, 'CREDIT': 0.04812703040826927, 'CAN BUY (CLASS LABEL)': 0.9402859586706309}\n",
      "{'INCOME': 0.01997309402197489, 'STUDENT': 0.01997309402197489, 'CREDIT': 0.9709505944546686, 'CAN BUY (CLASS LABEL)': 0.9709505944546686}\n",
      "{'INCOME': 0.5709505944546686, 'STUDENT': 0.9709505944546686, 'CREDIT': 0.01997309402197489, 'CAN BUY (CLASS LABEL)': 0.9709505944546686}\n"
     ]
    },
    {
     "name": "stdin",
     "output_type": "stream",
     "text": [
      "Enter the AGE value <30\n",
      "Enter the INCOME value HIGH\n",
      "Enter the STUDENT value NO\n",
      "Enter the CREDIT value FAIR\n"
     ]
    },
    {
     "name": "stdout",
     "output_type": "stream",
     "text": [
      "Prediction is =\n",
      "NO\n"
     ]
    }
   ],
   "source": [
    "def Predict():\n",
    "    tree=Tree(dataframe=dataframe)\n",
    "    ip={}\n",
    "    for i in list(dataframe.keys()):\n",
    "        if i==target:\n",
    "            continue\n",
    "        j=input(\"Enter the \"+i+\" value\")\n",
    "        t=get(j)\n",
    "        if(type(t)==type(2)):\n",
    "            ip[i]=t\n",
    "        else:\n",
    "            ip[i]=j\n",
    "    p=tree\n",
    "    while(type(p)==type({})):\n",
    "        x=list(p.keys())[0]\n",
    "        t=ip[x]\n",
    "        p=p[x][t]\n",
    "    print(\"Prediction is =\")\n",
    "    print(p)\n",
    "Predict()"
   ]
  },
  {
   "cell_type": "code",
   "execution_count": null,
   "metadata": {},
   "outputs": [],
   "source": []
  }
 ],
 "metadata": {
  "kernelspec": {
   "display_name": "Python 3",
   "language": "python",
   "name": "python3"
  },
  "language_info": {
   "codemirror_mode": {
    "name": "ipython",
    "version": 3
   },
   "file_extension": ".py",
   "mimetype": "text/x-python",
   "name": "python",
   "nbconvert_exporter": "python",
   "pygments_lexer": "ipython3",
   "version": "3.7.3"
  }
 },
 "nbformat": 4,
 "nbformat_minor": 4
}
